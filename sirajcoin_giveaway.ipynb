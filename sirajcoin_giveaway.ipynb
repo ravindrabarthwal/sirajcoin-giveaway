{
 "cells": [
  {
   "cell_type": "markdown",
   "metadata": {},
   "source": [
    "# SirajCoin Giveaway\n",
    "###### This is the code for the script that I made to announce the result of the giveaway. https://twitter.com/ravindra_js/status/954976804565008384 . You can follow me if you wish and I will follow you back if you tweet interesting."
   ]
  },
  {
   "cell_type": "code",
   "execution_count": 1,
   "metadata": {
    "collapsed": true
   },
   "outputs": [],
   "source": [
    "#Importing numpy's random package\n",
    "from numpy import random"
   ]
  },
  {
   "cell_type": "code",
   "execution_count": 2,
   "metadata": {
    "collapsed": true
   },
   "outputs": [],
   "source": [
    "# list of wallet address of those who replied on my tweet\n",
    "participants = ['4xZ683iHuhZ3Unpfb7fsWtswrFf78Vw8E', 'PPis65wmq5cYxJLD9Q8oEJ86gwmCC4WAS', '73nqpqtFwQR8HV6TUsNbTV3vaobyuEkyd']"
   ]
  },
  {
   "cell_type": "code",
   "execution_count": 3,
   "metadata": {},
   "outputs": [
    {
     "name": "stdout",
     "output_type": "stream",
     "text": [
      "['PPis65wmq5cYxJLD9Q8oEJ86gwmCC4WAS', '4xZ683iHuhZ3Unpfb7fsWtswrFf78Vw8E', '73nqpqtFwQR8HV6TUsNbTV3vaobyuEkyd']\n"
     ]
    }
   ],
   "source": [
    "# shuffle the list\n",
    "random.shuffle(participants)\n",
    "print(participants)"
   ]
  },
  {
   "cell_type": "code",
   "execution_count": 4,
   "metadata": {},
   "outputs": [
    {
     "name": "stdout",
     "output_type": "stream",
     "text": [
      "82839\n"
     ]
    }
   ],
   "source": [
    "# generating a rondom integer for the seed\n",
    "random_seed = random.randint(0, 900000)\n",
    "print(random_seed)"
   ]
  },
  {
   "cell_type": "code",
   "execution_count": 5,
   "metadata": {
    "collapsed": true
   },
   "outputs": [],
   "source": [
    "#setting previously genereated random seed\n",
    "random.seed(random_seed)"
   ]
  },
  {
   "cell_type": "code",
   "execution_count": 6,
   "metadata": {},
   "outputs": [
    {
     "name": "stdout",
     "output_type": "stream",
     "text": [
      "4xZ683iHuhZ3Unpfb7fsWtswrFf78Vw8E\n"
     ]
    }
   ],
   "source": [
    "# choosing winner\n",
    "winner = random.choice(participants)\n",
    "print(winner)"
   ]
  },
  {
   "cell_type": "code",
   "execution_count": null,
   "metadata": {
    "collapsed": true
   },
   "outputs": [],
   "source": []
  }
 ],
 "metadata": {
  "kernelspec": {
   "display_name": "Python 3",
   "language": "python",
   "name": "python3"
  },
  "language_info": {
   "codemirror_mode": {
    "name": "ipython",
    "version": 3
   },
   "file_extension": ".py",
   "mimetype": "text/x-python",
   "name": "python",
   "nbconvert_exporter": "python",
   "pygments_lexer": "ipython3",
   "version": "3.6.1"
  }
 },
 "nbformat": 4,
 "nbformat_minor": 2
}
